{
 "cells": [
  {
   "cell_type": "code",
   "execution_count": 1,
   "metadata": {},
   "outputs": [
    {
     "name": "stdout",
     "output_type": "stream",
     "text": [
      "[nltk_data] Downloading package stopwords to C:\\Users\\VA Lab\n",
      "[nltk_data]     11\\AppData\\Roaming\\nltk_data...\n",
      "[nltk_data]   Package stopwords is already up-to-date!\n",
      "[nltk_data] Downloading package wordnet to C:\\Users\\VA Lab\n",
      "[nltk_data]     11\\AppData\\Roaming\\nltk_data...\n",
      "[nltk_data]   Package wordnet is already up-to-date!\n"
     ]
    },
    {
     "name": "stderr",
     "output_type": "stream",
     "text": [
      "C:\\conda\\lib\\site-packages\\gensim\\utils.py:1167: UserWarning: detected Windows; aliasing chunkize to chunkize_serial\n",
      "  warnings.warn(\"detected Windows; aliasing chunkize to chunkize_serial\")\n"
     ]
    }
   ],
   "source": [
    "#from helper import *\n",
    "#python -m pip install <name of packages/library>\n",
    "import nltk\n",
    "nltk.download('stopwords')\n",
    "nltk.download('wordnet')\n",
    "from nltk.corpus import stopwords\n",
    "from nltk.stem.wordnet import WordNetLemmatizer\n",
    "import gensim\n",
    "from gensim.models.ldamodel import LdaModel as Lda\n",
    "from gensim import corpora\n",
    "#import pyLDAvis\n",
    "import string\n",
    "import os\n",
    "import codecs\n",
    "import pandas as pd\n",
    "from openpyxl import Workbook\n",
    "#import pyLDAvis.gensim\n",
    "import warnings\n",
    "warnings.filterwarnings(\"ignore\")"
   ]
  },
  {
   "cell_type": "markdown",
   "metadata": {},
   "source": [
    "# add log for recording the model fitting data while training"
   ]
  },
  {
   "cell_type": "code",
   "execution_count": 2,
   "metadata": {
    "collapsed": true
   },
   "outputs": [],
   "source": [
    "from time import time\n",
    "import logging\n",
    "\n",
    "logging.basicConfig(format='%(asctime)s : %(levelname)s : %(message)s', level=logging.INFO,\n",
    "                   filename='running.log',filemode='w')"
   ]
  },
  {
   "cell_type": "code",
   "execution_count": 3,
   "metadata": {
    "collapsed": true
   },
   "outputs": [],
   "source": [
    "comments=pd.read_csv(\"cleaning.csv\") # after you create and save a file using SPARK in a different program"
   ]
  },
  {
   "cell_type": "code",
   "execution_count": 4,
   "metadata": {
    "collapsed": true
   },
   "outputs": [],
   "source": [
    "comments = comments.tokens_Stop[1:100].tolist() # choose a number of cleaned comments to work on"
   ]
  },
  {
   "cell_type": "code",
   "execution_count": 5,
   "metadata": {
    "collapsed": true
   },
   "outputs": [],
   "source": [
    "lemma = WordNetLemmatizer()"
   ]
  },
  {
   "cell_type": "code",
   "execution_count": 6,
   "metadata": {
    "collapsed": true
   },
   "outputs": [],
   "source": [
    "# Function to remove stop words from sentences, punctuation & lemmatize words.\n",
    "def clean(doc):\n",
    "    exclude = set(string.punctuation)\n",
    "    translate_table = dict((ord(char), None) for char in string.punctuation)\n",
    "    no_punct = doc.lower().translate(translate_table)\n",
    "    stop_free = \" \".join([i for i in no_punct.split()])\n",
    "    normalized = \" \".join(lemma.lemmatize(word,'v') for word in stop_free.split())\n",
    "    \n",
    "    x = normalized.split()\n",
    "    y = [s for s in x if len(s) > 2]\n",
    "    return y"
   ]
  },
  {
   "cell_type": "code",
   "execution_count": 7,
   "metadata": {
    "collapsed": true
   },
   "outputs": [],
   "source": [
    "cleanPost = [clean(doc) for doc in comments]"
   ]
  },
  {
   "cell_type": "code",
   "execution_count": 8,
   "metadata": {},
   "outputs": [
    {
     "name": "stdout",
     "output_type": "stream",
     "text": [
      "99\n"
     ]
    }
   ],
   "source": [
    "print(len(cleanPost))\n",
    "#print([len(x) for x in cleanPost])[1:1]\n",
    "#print(cleanPost)"
   ]
  },
  {
   "cell_type": "code",
   "execution_count": 9,
   "metadata": {},
   "outputs": [
    {
     "name": "stdout",
     "output_type": "stream",
     "text": [
      "[('government', 44), ('pay', 39), ('work', 35), ('workers', 35), ('job', 32), ('federal', 32), ('canadians', 29), ('provinces', 28), ('tax', 25), ('canada', 23), ('money', 23), ('people', 22), ('transfer', 22), ('canadian', 20), ('health', 20), ('care', 19), ('cost', 18), ('program', 17), ('wag', 17), ('year', 17), ('tfws', 16), ('market', 16), ('economy', 15), ('harper', 15), ('way', 14), ('public', 14), ('worker', 13), ('service', 13), ('feds', 13), ('wage', 12), ('payments', 12), ('pension', 12), ('sick', 12), ('benefit', 11), ('tfw', 11), ('foreign', 11), ('employers', 11), ('time', 11), ('thing', 11), ('cut', 11), ('spend', 11), ('provincial', 11), ('country', 10), ('fund', 10), ('deficit', 10), ('budget', 10), ('employees', 10), ('raise', 9), ('business', 9), ('article', 9), ('problem', 9), ('home', 8), ('increase', 8), ('theyre', 8), ('save', 8), ('financial', 8), ('sector', 8), ('unions', 7), ('temporary', 7), ('hire', 7), ('reason', 7), ('term', 7), ('lower', 7), ('change', 7), ('free', 7), ('party', 7), ('exploit', 7), ('immigration', 7), ('happen', 7), ('portion', 7), ('level', 7), ('cyprus', 7), ('dollars', 7), ('billion', 7), ('download', 7), ('things', 6), ('order', 6), ('average', 6), ('reduce', 6), ('create', 6), ('nanny', 6), ('skilled', 6), ('policy', 6), ('house', 6), ('keep', 6), ('rate', 6), ('profit', 6), ('issue', 6), ('skills', 6), ('charge', 6), ('old', 6), ('mean', 6), ('bank', 6), ('control', 6), ('debt', 6), ('flaherty', 6), ('farm', 5), ('close', 5), ('company', 5), ('labour', 5), ('force', 5), ('play', 5), ('demand', 5), ('train', 5), ('buy', 5), ('children', 5), ('life', 5), ('send', 5), ('stop', 5), ('class', 5), ('world', 5), ('political', 5), ('extra', 5), ('economic', 5), ('matter', 5), ('usa', 5), ('person', 5), ('bill', 5), ('plan', 5), ('fire', 5), ('entire', 5), ('power', 5), ('cypriot', 5), ('system', 5), ('everyone', 5), ('martin', 5), ('responsibility', 5), ('healthcare', 5), ('governments', 5), ('next', 4), ('practice', 4), ('human', 4), ('limit', 4), ('cities', 4), ('game', 4), ('eliminate', 4), ('social', 4), ('price', 4), ('conservatives', 4), ('claim', 4), ('available', 4), ('compete', 4), ('kid', 4), ('blame', 4), ('lead', 4), ('conservative', 4), ('local', 4), ('national', 4), ('alberta', 4), ('wealthy', 4), ('months', 4), ('period', 4), ('hold', 4), ('industries', 4), ('lack', 4), ('totally', 4), ('different', 4), ('idea', 4), ('standard', 4), ('provide', 4), ('exactly', 4), ('compare', 4), ('talk', 4), ('general', 4), ('mosaic', 4), ('pot', 4), ('point', 4), ('difference', 4), ('employer', 4), ('today', 4), ('pensioners', 4), ('chretien', 4), ('ontario', 4), ('responsibilities', 4), ('example', 4), ('amend', 4), ('lay', 4), ('move', 4), ('mostly', 4), ('decline', 4), ('suppose', 4), ('waste', 4), ('write', 4), ('bash', 4), ('days', 4), ('vision', 4), ('middle', 4), ('note', 4), ('managers', 4), ('younger', 4), ('remember', 3), ('election', 3), ('place', 3), ('pick', 3), ('seasonal', 3), ('employ', 3), ('towns', 3), ('food', 3), ('offer', 3), ('tim', 3)]\n"
     ]
    }
   ],
   "source": [
    "# Find the most frequent words and exclude NEUtral them. My bias!!! May be work more on that?\n",
    "import itertools\n",
    "flattened_cleanPost = list(itertools.chain(*cleanPost))\n",
    "\n",
    "from collections import Counter\n",
    "word_counts = Counter(flattened_cleanPost)\n",
    "top_three = word_counts.most_common(200)\n",
    "print(top_three)"
   ]
  },
  {
   "cell_type": "code",
   "execution_count": 10,
   "metadata": {
    "collapsed": true
   },
   "outputs": [],
   "source": [
    "most_fr = pd.DataFrame(top_three, columns=['words','count']).set_index('words')\n",
    "most_fr.to_excel('most_frequent.xlsx')"
   ]
  },
  {
   "cell_type": "code",
   "execution_count": 11,
   "metadata": {
    "collapsed": true
   },
   "outputs": [],
   "source": [
    "import gensim\n",
    "import warnings\n",
    "import pandas as pd\n",
    "import seaborn as sns\n",
    "import matplotlib.pyplot as plt\n",
    "warnings.filterwarnings(\"ignore\")"
   ]
  },
  {
   "cell_type": "code",
   "execution_count": 12,
   "metadata": {},
   "outputs": [
    {
     "data": {
      "image/png": "[encoded data removed]",
      "text/plain": [
       "<Figure size 576x576 with 1 Axes>"
      ]
     },
     "metadata": {},
     "output_type": "display_data"
    }
   ],
   "source": [
    "fiz=plt.figure(figsize=(8,8))\n",
    "#df=pd.DataFrame(lda.show_topic(i), columns=['term','prob']).set_index('term')\n",
    "#df=df.sort_values('prob')\n",
    "#plt.subplot(5,2,1)\n",
    "plt.title('Most frequent words')\n",
    "sns.barplot(x='count', y=most_fr[1:20].index, data=most_fr[1:20], label='Cities', palette='GnBu_d')\n",
    "plt.xlabel('count')\n",
    "fiz.savefig('most_frequent.png')\n",
    "plt.show()"
   ]
  },
  {
   "cell_type": "code",
   "execution_count": 13,
   "metadata": {},
   "outputs": [
    {
     "name": "stdout",
     "output_type": "stream",
     "text": [
      "Dictionary(1515 unique tokens: ['40hr', 'annual', 'benefit', 'bust', 'election']...)\n"
     ]
    }
   ],
   "source": [
    "# Creating the term dictionary of our courpus, where every unique term is assigned an index. \n",
    "dictionary = corpora.Dictionary(cleanPost)\n",
    "dictionary.save('dictionary.dict')\n",
    "print (dictionary)"
   ]
  },
  {
   "cell_type": "code",
   "execution_count": 14,
   "metadata": {
    "collapsed": true
   },
   "outputs": [],
   "source": [
    "#After printing the most frequent words of the dictionary, I found that few words which are mostly content neutral words are also present in the dictionary. \n",
    "# These words may lead to modeling of “word distribution”(topic) which is neutral and do not capture any theme or content. \n",
    "# I made a list of such words and filtered all such words.\n",
    "stoplist = set('per still that you time back good right disagree obviously self bye see even low less much another will every instead never ask want leave bring give one tell say new try take may come get two three get would seem like want hey might may without also make want put etc actually else far definitely youll\\' didnt\\' isnt\\' theres since able maybe without may suggestedsort never isredditmediadomain userreports far appreciate next think know need look please one null take dont dont\\' want\\' could able ask well best someone sure lot thank also anyone really something give years use make all ago know many call include part find become '.split())\n",
    "stop_ids = [dictionary.token2id[stopword] for stopword in stoplist if stopword in dictionary.token2id]\n",
    "dictionary.filter_tokens(stop_ids)\n"
   ]
  },
  {
   "cell_type": "code",
   "execution_count": 15,
   "metadata": {
    "scrolled": true
   },
   "outputs": [
    {
     "name": "stdout",
     "output_type": "stream",
     "text": [
      "99\n"
     ]
    }
   ],
   "source": [
    "#build a corpus and save it for a future\n",
    "# Converting list of documents (corpus) into Document Term Matrix using dictionary prepared above and save for a future use\n",
    "doc_term_matrix = [dictionary.doc2bow(doc) for doc in cleanPost]\n",
    "\n",
    "#corpora.MmCorpus.serialize('corpus.mm', doc_term_matrix)\n",
    "print (len(doc_term_matrix))"
   ]
  },
  {
   "cell_type": "code",
   "execution_count": 16,
   "metadata": {},
   "outputs": [
    {
     "name": "stdout",
     "output_type": "stream",
     "text": [
      "used: 7.45s\n"
     ]
    }
   ],
   "source": [
    "start = time()\n",
    "# Creating the object for LDA model using gensim library\n",
    "Lda = gensim.models.ldamodel.LdaModel\n",
    "\n",
    "#Creating the object for LDA model using gensim library & Training LDA model on the document term matrix.\n",
    "ldamodel = Lda(doc_term_matrix, num_topics=4, id2word = dictionary, passes=20, iterations=500)\n",
    "#ldafile = open('lda_model_sym_wiki.pkl','wb')\n",
    "#cPickle.dump(ldamodel,ldafile)\n",
    "#ldafile.close()\n",
    "print ('used: {:.2f}s'.format(time()-start))"
   ]
  },
  {
   "cell_type": "code",
   "execution_count": 17,
   "metadata": {},
   "outputs": [
    {
     "data": {
      "text/html": [
       "<div>\n",
       "<style>\n",
       "    .dataframe thead tr:only-child th {\n",
       "        text-align: right;\n",
       "    }\n",
       "\n",
       "    .dataframe thead th {\n",
       "        text-align: left;\n",
       "    }\n",
       "\n",
       "    .dataframe tbody tr th {\n",
       "        vertical-align: top;\n",
       "    }\n",
       "</style>\n",
       "<table border=\"1\" class=\"dataframe\">\n",
       "  <thead>\n",
       "    <tr style=\"text-align: right;\">\n",
       "      <th></th>\n",
       "      <th>words</th>\n",
       "    </tr>\n",
       "    <tr>\n",
       "      <th>id_topics</th>\n",
       "      <th></th>\n",
       "    </tr>\n",
       "  </thead>\n",
       "  <tbody>\n",
       "    <tr>\n",
       "      <th>0</th>\n",
       "      <td>0.011*\"tfws\" + 0.010*\"work\" + 0.008*\"canada\" +...</td>\n",
       "    </tr>\n",
       "    <tr>\n",
       "      <th>1</th>\n",
       "      <td>0.010*\"workers\" + 0.010*\"canadians\" + 0.008*\"w...</td>\n",
       "    </tr>\n",
       "    <tr>\n",
       "      <th>2</th>\n",
       "      <td>0.015*\"government\" + 0.014*\"pay\" + 0.012*\"prov...</td>\n",
       "    </tr>\n",
       "  </tbody>\n",
       "</table>\n",
       "</div>"
      ],
      "text/plain": [
       "                                                       words\n",
       "id_topics                                                   \n",
       "0          0.011*\"tfws\" + 0.010*\"work\" + 0.008*\"canada\" +...\n",
       "1          0.010*\"workers\" + 0.010*\"canadians\" + 0.008*\"w...\n",
       "2          0.015*\"government\" + 0.014*\"pay\" + 0.012*\"prov..."
      ]
     },
     "execution_count": 17,
     "metadata": {},
     "output_type": "execute_result"
    }
   ],
   "source": [
    "#print(ldamodel.print_topics(num_topics=5, num_words=4))\n",
    "ii = ldamodel.print_topics(num_topics=4, num_words=30)\n",
    "df = pd.DataFrame(ii, columns=['id_topics', 'words']).set_index('id_topics')\n",
    "df.head(3)"
   ]
  },
  {
   "cell_type": "code",
   "execution_count": 18,
   "metadata": {
    "collapsed": true
   },
   "outputs": [],
   "source": [
    "df.to_excel('topics.xlsx')"
   ]
  },
  {
   "cell_type": "code",
   "execution_count": 19,
   "metadata": {
    "collapsed": true
   },
   "outputs": [],
   "source": [
    "df = df.to_csv('topics.csv') #save topics to csv file"
   ]
  },
  {
   "cell_type": "code",
   "execution_count": 20,
   "metadata": {},
   "outputs": [
    {
     "name": "stdout",
     "output_type": "stream",
     "text": [
      "1   0.011*\"tfws\" + 0.010*\"work\" + 0.008*\"canada\" + 0.008*\"pay\" + 0.007*\"workers\" + 0.007*\"job\" + 0.006*\"tfw\" + 0.006*\"budget\" + 0.006*\"economy\" + 0.006*\"way\" \n",
      "\n",
      "2   0.010*\"workers\" + 0.010*\"canadians\" + 0.008*\"work\" + 0.008*\"job\" + 0.006*\"government\" + 0.006*\"cyprus\" + 0.005*\"federal\" + 0.004*\"save\" + 0.004*\"employers\" + 0.004*\"people\" \n",
      "\n",
      "3   0.015*\"government\" + 0.014*\"pay\" + 0.012*\"provinces\" + 0.010*\"tax\" + 0.010*\"workers\" + 0.009*\"canadians\" + 0.009*\"federal\" + 0.009*\"money\" + 0.008*\"wag\" + 0.008*\"care\" \n",
      "\n",
      "4   0.012*\"transfer\" + 0.011*\"government\" + 0.010*\"sick\" + 0.008*\"year\" + 0.008*\"money\" + 0.008*\"health\" + 0.008*\"federal\" + 0.007*\"job\" + 0.007*\"payments\" + 0.007*\"care\" \n",
      "\n"
     ]
    }
   ],
   "source": [
    "#Print all the 50 topics\n",
    "for topic in ldamodel.print_topics(num_topics=50, num_words=10):\n",
    "    print (topic[0]+1, \" \", topic[1],\"\\n\")\n",
    "    "
   ]
  },
  {
   "cell_type": "code",
   "execution_count": 17,
   "metadata": {
    "collapsed": true
   },
   "outputs": [],
   "source": [
    "#save model for future use\n",
    "ldamodel.save('topic_comments_lda.model')"
   ]
  },
  {
   "cell_type": "code",
   "execution_count": 18,
   "metadata": {
    "collapsed": true
   },
   "outputs": [],
   "source": [
    "#load saved model\n",
    "#from gensim.models import LdaModel\n",
    "#loading = LdaModel.load('topic_comments_lda.model')"
   ]
  },
  {
   "cell_type": "code",
   "execution_count": 19,
   "metadata": {
    "collapsed": true
   },
   "outputs": [],
   "source": [
    "#print(loading.print_topics(num_topics=2, num_words=4))"
   ]
  },
  {
   "cell_type": "code",
   "execution_count": 65,
   "metadata": {
    "collapsed": true
   },
   "outputs": [],
   "source": [
    "def visualize(ldamodel,doc_term_matrix, dictionary):\n",
    "        try:\n",
    "            pyLDAvis.enable_notebook()\n",
    "        except:\n",
    "            print ('not in jupyter notebook')\n",
    "            \n",
    "\n",
    "        viz = pyLDAvis.gensim.prepare(ldamodel, doc_term_matrix, dictionary)\n",
    "        \n",
    "        pyLDAvis.save_html(viz, 'TM_viz.html')\n",
    "        \n",
    "        return viz"
   ]
  },
  {
   "cell_type": "code",
   "execution_count": 66,
   "metadata": {},
   "outputs": [
    {
     "ename": "ModuleNotFoundError",
     "evalue": "No module named 'pyLDAvis'",
     "output_type": "error",
     "traceback": [
      "\u001b[1;31m---------------------------------------------------------------------------\u001b[0m",
      "\u001b[1;31mModuleNotFoundError\u001b[0m                       Traceback (most recent call last)",
      "\u001b[1;32m<ipython-input-66-3e0c1adba1c7>\u001b[0m in \u001b[0;36m<module>\u001b[1;34m()\u001b[0m\n\u001b[1;32m----> 1\u001b[1;33m \u001b[0mvisualize\u001b[0m\u001b[1;33m(\u001b[0m\u001b[0mldamodel\u001b[0m\u001b[1;33m,\u001b[0m\u001b[0mdoc_term_matrix\u001b[0m\u001b[1;33m,\u001b[0m \u001b[0mdictionary\u001b[0m\u001b[1;33m)\u001b[0m\u001b[1;33m\u001b[0m\u001b[0m\n\u001b[0m",
      "\u001b[1;32m<ipython-input-65-27a729a9a41a>\u001b[0m in \u001b[0;36mvisualize\u001b[1;34m(ldamodel, doc_term_matrix, dictionary)\u001b[0m\n\u001b[0;32m      1\u001b[0m \u001b[1;32mdef\u001b[0m \u001b[0mvisualize\u001b[0m\u001b[1;33m(\u001b[0m\u001b[0mldamodel\u001b[0m\u001b[1;33m,\u001b[0m\u001b[0mdoc_term_matrix\u001b[0m\u001b[1;33m,\u001b[0m \u001b[0mdictionary\u001b[0m\u001b[1;33m)\u001b[0m\u001b[1;33m:\u001b[0m\u001b[1;33m\u001b[0m\u001b[0m\n\u001b[1;32m----> 2\u001b[1;33m     \u001b[1;32mimport\u001b[0m \u001b[0mpyLDAvis\u001b[0m\u001b[1;33m\u001b[0m\u001b[0m\n\u001b[0m\u001b[0;32m      3\u001b[0m     \u001b[1;32mtry\u001b[0m\u001b[1;33m:\u001b[0m\u001b[1;33m\u001b[0m\u001b[0m\n\u001b[0;32m      4\u001b[0m         \u001b[0mpyLDAvis\u001b[0m\u001b[1;33m.\u001b[0m\u001b[0menable_notebook\u001b[0m\u001b[1;33m(\u001b[0m\u001b[1;33m)\u001b[0m\u001b[1;33m\u001b[0m\u001b[0m\n\u001b[0;32m      5\u001b[0m     \u001b[1;32mexcept\u001b[0m\u001b[1;33m:\u001b[0m\u001b[1;33m\u001b[0m\u001b[0m\n",
      "\u001b[1;31mModuleNotFoundError\u001b[0m: No module named 'pyLDAvis'"
     ]
    }
   ],
   "source": [
    "visualize(ldamodel,doc_term_matrix, dictionary)"
   ]
  },
  {
   "cell_type": "code",
   "execution_count": 67,
   "metadata": {
    "collapsed": true
   },
   "outputs": [],
   "source": [
    "ldamodel.save('TM_lda.model')"
   ]
  },
  {
   "cell_type": "markdown",
   "metadata": {},
   "source": [
    "# Plot words importance"
   ]
  },
  {
   "cell_type": "code",
   "execution_count": 59,
   "metadata": {},
   "outputs": [
    {
     "name": "stdout",
     "output_type": "stream",
     "text": [
      "Wall time: 680 ms\n"
     ]
    }
   ],
   "source": [
    "%%time\n",
    "import gensim\n",
    "import warnings\n",
    "import pandas as pd\n",
    "import seaborn as sns\n",
    "import matplotlib.pyplot as plt\n",
    "warnings.filterwarnings(\"ignore\")\n",
    "lda = gensim.models.LdaModel.load('topic_comments_lda.model')"
   ]
  },
  {
   "cell_type": "code",
   "execution_count": 68,
   "metadata": {},
   "outputs": [
    {
     "data": {
      "text/plain": [
       "[('article', 0.0088667795),\n",
       " ('people', 0.007914071),\n",
       " ('read', 0.0069428533),\n",
       " ('women', 0.0065802354),\n",
       " ('comment', 0.0062736738),\n",
       " ('kid', 0.0050650062),\n",
       " ('school', 0.0045170886),\n",
       " ('children', 0.00434996),\n",
       " ('point', 0.0043331934),\n",
       " ('write', 0.0042704619)]"
      ]
     },
     "execution_count": 68,
     "metadata": {},
     "output_type": "execute_result"
    }
   ],
   "source": [
    "#lda.show_topic(2)\n"
   ]
  },
  {
   "cell_type": "code",
   "execution_count": 60,
   "metadata": {},
   "outputs": [
    {
     "data": {
      "image/png": "[encoded data removed]",
      "text/plain": [
       "<Figure size 1080x2160 with 4 Axes>"
      ]
     },
     "metadata": {},
     "output_type": "display_data"
    }
   ],
   "source": [
    "fig=plt.figure(figsize=(15,30))\n",
    "for i in range(4):\n",
    "    df=pd.DataFrame(ldamodel.show_topic(i), columns=['term','prob']).set_index('term')\n",
    "#     df=df.sort_values('prob')\n",
    "    df\n",
    "    plt.subplot(5,2,i+1)\n",
    "    plt.title('topic '+str(i+1))\n",
    "    sns.barplot(x='prob', y=df.index, data=df, label='Cities', palette='Reds_d')\n",
    "    plt.xlabel('probability')\n",
    "    \n",
    "fig.savefig('charts.png')\n",
    "plt.show()"
   ]
  },
  {
   "cell_type": "code",
   "execution_count": 62,
   "metadata": {},
   "outputs": [
    {
     "data": {
      "text/plain": [
       "Index(['pay', 'tax', 'money', 'work', 'government', 'cost', 'people', 'public',\n",
       "       'job', 'pension'],\n",
       "      dtype='object', name='term')"
      ]
     },
     "execution_count": 62,
     "metadata": {},
     "output_type": "execute_result"
    }
   ],
   "source": [
    "df.index"
   ]
  },
  {
   "cell_type": "code",
   "execution_count": 2,
   "metadata": {
    "collapsed": true
   },
   "outputs": [],
   "source": [
    "#df"
   ]
  }
 ],
 "metadata": {
  "kernelspec": {
   "display_name": "Python 3",
   "language": "python",
   "name": "python3"
  },
  "language_info": {
   "codemirror_mode": {
    "name": "ipython",
    "version": 3
   },
   "file_extension": ".py",
   "mimetype": "text/x-python",
   "name": "python",
   "nbconvert_exporter": "python",
   "pygments_lexer": "ipython3",
   "version": "3.6.3"
  }
 },
 "nbformat": 4,
 "nbformat_minor": 2
}
