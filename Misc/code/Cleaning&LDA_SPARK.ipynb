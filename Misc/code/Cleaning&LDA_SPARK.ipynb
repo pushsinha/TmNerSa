{
 "cells": [
  {
   "cell_type": "code",
   "execution_count": 211,
   "metadata": {
    "scrolled": true
   },
   "outputs": [],
   "source": [
    "import os\n",
    "import nltk\n",
    "import sys\n",
    "from pyspark.sql import SparkSession\n",
    "from pyspark import SparkContext\n",
    "from pyspark.sql.functions import *\n",
    "from pyspark.mllib.clustering import LDA, LDAModel\n",
    "import threading\n",
    "from pyspark.ml.clustering import LDA\n",
    "from pyspark.sql.types import *\n",
    "from pyspark.sql import *\n",
    "import re \n",
    "import struct\n",
    "#import pyLDAvis\n",
    "from struct import *\n",
    "from pyspark.sql.functions import udf\n",
    "from pyspark.sql.types import StructType, StringType, ArrayType\n",
    "import pandas as pd\n",
    "from pyspark.ml.feature import StopWordsRemover, Tokenizer, CountVectorizer, HashingTF, IDF\n",
    "from array import array\n",
    "from pyspark.ml.feature import Word2Vec\n",
    "from openpyxl import Workbook\n",
    "from pyspark.sql.types import ArrayType, StringType\n",
    "from time import time\n",
    "import gensim\n",
    "import warnings\n",
    "import pandas as pd\n",
    "import seaborn as sns\n",
    "import matplotlib.pyplot as plt\n",
    "import xlsxwriter\n",
    "warnings.filterwarnings(\"ignore\")"
   ]
  },
  {
   "cell_type": "code",
   "execution_count": 212,
   "metadata": {},
   "outputs": [
    {
     "name": "stdout",
     "output_type": "stream",
     "text": [
      "[nltk_data] Downloading package stopwords to C:\\Users\\VA Lab\n",
      "[nltk_data]     11\\AppData\\Roaming\\nltk_data...\n",
      "[nltk_data]   Package stopwords is already up-to-date!\n",
      "[nltk_data] Downloading package wordnet to C:\\Users\\VA Lab\n",
      "[nltk_data]     11\\AppData\\Roaming\\nltk_data...\n",
      "[nltk_data]   Package wordnet is already up-to-date!\n"
     ]
    }
   ],
   "source": [
    "import nltk\n",
    "nltk.download('stopwords')\n",
    "nltk.download('wordnet')\n",
    "from nltk.corpus import stopwords\n",
    "from nltk.stem.wordnet import WordNetLemmatizer\n",
    "import string\n",
    "import os\n",
    "import codecs\n",
    "\n",
    "lemma = WordNetLemmatizer()\n"
   ]
  },
  {
   "cell_type": "code",
   "execution_count": 213,
   "metadata": {
    "collapsed": true
   },
   "outputs": [],
   "source": [
    "spark = SparkSession.builder \\\n",
    "         .appName(\"spark-nltk\") \\\n",
    "         .getOrCreate()\n",
    "\n",
    "data = spark.read.csv(\"gnm_comments.csv\", header=True) #gives a dataframe\n",
    "sc = spark.sparkContext"
   ]
  },
  {
   "cell_type": "code",
   "execution_count": 214,
   "metadata": {
    "collapsed": true
   },
   "outputs": [],
   "source": [
    "comment_text = data.select('comment_text')\n",
    "comment_text=comment_text.replace(r'\\\\n\\\\n|\\\\n',' ')\n",
    "comment_text=comment_text.replace(r\"\"\"(?i)\\b((?:https?:(?:/{1,3}|[a-z0-9%])|[a-z0-9.\\-]+[.](?:com|net|org|edu|gov|mil|aero|asia|biz|cat|coop|info|int|jobs|mobi|museum|name|post|pro|tel|travel|xxx|ac|ad|ae|af|ag|ai|al|am|an|ao|aq|ar|as|at|au|aw|ax|az|ba|bb|bd|be|bf|bg|bh|bi|bj|bm|bn|bo|br|bs|bt|bv|bw|by|bz|ca|cc|cd|cf|cg|ch|ci|ck|cl|cm|cn|co|cr|cs|cu|cv|cx|cy|cz|dd|de|dj|dk|dm|do|dz|ec|ee|eg|eh|er|es|et|eu|fi|fj|fk|fm|fo|fr|ga|gb|gd|ge|gf|gg|gh|gi|gl|gm|gn|gp|gq|gr|gs|gt|gu|gw|gy|hk|hm|hn|hr|ht|hu|id|ie|il|im|in|io|iq|ir|is|it|je|jm|jo|jp|ke|kg|kh|ki|km|kn|kp|kr|kw|ky|kz|la|lb|lc|li|lk|lr|ls|lt|lu|lv|ly|ma|mc|md|me|mg|mh|mk|ml|mm|mn|mo|mp|mq|mr|ms|mt|mu|mv|mw|mx|my|mz|na|nc|ne|nf|ng|ni|nl|no|np|nr|nu|nz|om|pa|pe|pf|pg|ph|pk|pl|pm|pn|pr|ps|pt|pw|py|qa|re|ro|rs|ru|rw|sa|sb|sc|sd|se|sg|sh|si|sj|Ja|sk|sl|sm|sn|so|sr|ss|st|su|sv|sx|sy|sz|tc|td|tf|tg|th|tj|tk|tl|tm|tn|to|tp|tr|tt|tv|tw|tz|ua|ug|uk|us|uy|uz|va|vc|ve|vg|vi|vn|vu|wf|ws|ye|yt|yu|za|zm|zw)/)(?:[^\\s()<>{}\\[\\]]+|\\([^\\s()]*?\\([^\\s()]+\\)[^\\s()]*?\\)|\\([^\\s]+?\\))+(?:\\([^\\s()]*?\\([^\\s()]+\\)[^\\s()]*?\\)|\\([^\\s]+?\\)|[^\\s`!()\\[\\]{};:'\".,<>?«»“”‘’])|(?:(?<!@)[a-z0-9]+(?:[.\\-][a-z0-9]+)*[.](?:com|net|org|edu|gov|mil|aero|asia|biz|cat|coop|info|int|jobs|mobi|museum|name|post|pro|tel|travel|xxx|ac|ad|ae|af|ag|ai|al|am|an|ao|aq|ar|as|at|au|aw|ax|az|ba|bb|bd|be|bf|bg|bh|bi|bj|bm|bn|bo|br|bs|bt|bv|bw|by|bz|ca|cc|cd|cf|cg|ch|ci|ck|cl|cm|cn|co|cr|cs|cu|cv|cx|cy|cz|dd|de|dj|dk|dm|do|dz|ec|ee|eg|eh|er|es|et|eu|fi|fj|fk|fm|fo|fr|ga|gb|gd|ge|gf|gg|gh|gi|gl|gm|gn|gp|gq|gr|gs|gt|gu|gw|gy|hk|hm|hn|hr|ht|hu|id|ie|il|im|in|io|iq|ir|is|it|je|jm|jo|jp|ke|kg|kh|ki|km|kn|kp|kr|kw|ky|kz|la|lb|lc|li|lk|lr|ls|lt|lu|lv|ly|ma|mc|md|me|mg|mh|mk|ml|mm|mn|mo|mp|mq|mr|ms|mt|mu|mv|mw|mx|my|mz|na|nc|ne|nf|ng|ni|nl|no|np|nr|nu|nz|om|pa|pe|pf|pg|ph|pk|pl|pm|pn|pr|ps|pt|pw|py|qa|re|ro|rs|ru|rw|sa|sb|sc|sd|se|sg|sh|si|sj|Ja|sk|sl|sm|sn|so|sr|ss|st|su|sv|sx|sy|sz|tc|td|tf|tg|th|tj|tk|tl|tm|tn|to|tp|tr|tt|tv|tw|tz|ua|ug|uk|us|uy|uz|va|vc|ve|vg|vi|vn|vu|wf|ws|ye|yt|yu|za|zm|zw)\\b/?(?!@)))\"\"\",' ')"
   ]
  },
  {
   "cell_type": "code",
   "execution_count": 215,
   "metadata": {
    "collapsed": true
   },
   "outputs": [],
   "source": [
    "def cleanup_text(text):\n",
    "    \n",
    "    exclude = set(string.punctuation)\n",
    "    translate_table = dict((ord(char), None) for char in string.punctuation)\n",
    "    no_punct = text.lower().translate(translate_table)\n",
    "    words = no_punct.split()\n",
    "    #words = translate_table\n",
    "    # Default list of Stopwords\n",
    "    stopwords_core = ['a', u'about', u'above', u'after', u'again', u'against', u'all', u'am', u'an', u'and', u'any', u'are', u'arent', u'as', u'at', \n",
    "    u'be', u'because', u'been', u'before', u'being', u'below', u'between', u'both', u'but', u'by', \n",
    "    u'can', 'cant', 'come', u'could', 'couldnt', \n",
    "    u'd', u'did', u'didn', u'do', u'does', u'doesnt', u'doing', u'dont', u'down', u'during', \n",
    "    u'each', \n",
    "    u'few', 'finally', u'for', u'from', u'further', \n",
    "    u'had', u'hadnt', u'has', u'hasnt', u'have', u'havent', u'having', u'he', u'her', u'here', u'hers', u'herself', u'him', u'himself', u'his', u'how', \n",
    "    u'i', u'if', u'in', u'into', u'is', u'isnt', u'it', u'its', u'itself', \n",
    "    u'just', \n",
    "    u'll', \n",
    "    u'm', u'me', u'might', u'more', u'most', u'must', u'my', u'myself', \n",
    "    u'no', u'nor', u'not', u'now', \n",
    "    u'o', u'of', u'off', u'on', u'once', u'only', u'or', u'other', u'our', u'ours', u'ourselves', u'out', u'over', u'own', \n",
    "    u'r', u're', \n",
    "    u's', 'said', u'same', u'she', u'should', u'shouldnt', u'so', u'some', u'such', \n",
    "    u't', u'than', u'that', 'thats', u'the', u'their', u'theirs', u'them', u'themselves', u'then', u'there', u'these', u'they', u'this', u'those', u'through', u'to', u'too', \n",
    "    u'under', u'until', u'up', \n",
    "    u'very', \n",
    "    u'was', u'wasnt', u'we', u'were', u'werent', u'what', u'when', u'where', u'which', u'while', u'who', u'whom', u'why', u'will', u'with', u'wont', u'would', \n",
    "    u'y', u'you', u'your', u'yours', u'yourself', u'yourselves']\n",
    "    \n",
    "    # Custom List of Stopwords - Add your own here\n",
    "    stopwords_custom = ['per', u'one', u'tell', u'need', u'say', u'new', u'try', u'take', u'may', u'come', u'get', \n",
    "    u'two', u'three', u'get', u'would', u'seem', u'want', u'hey', u'might', u'may', u'withot', u'with', u'also', \n",
    "    u'make', u'want', u'put', u'etc', u'actually', u'else', u'far', u'definitely', u'youll', u'didnt', u'isnt', \n",
    "    u'theres', u'since', u'able', u'maybe', u'sort', u'think', u'know', u'look', u'please', u'one', u'null', u'dont',\n",
    "    u'could', u'unable', u'someday', u'best', u'better', u'someone', u'sure', u'lot', u'thank', u'also', u'anyone', u'really',\n",
    "    u'something', u'give', u'years', u'use', u'all', u'ago', u'many', u'right', u'call', u'include', u'part', u'find',\n",
    "    u'become', u'choose', u'chosen', u'as', u'back', u'good', u'right', u'see', u'good', u'even',u'first', u'low', u'less', u'much', u'another', u'mine',\n",
    "    u'instead', u'will', u'never', u'ask', u'even', u'see', u'allow', u'still', u'that', u'you',\n",
    "    u'disagree', u'obviously', u'self', u'bye', u'well', u'make', u'take', u'let',\n",
    "    u'get', u'agree', u'leave', u'live', u'say', u'tell', u'understand', u'look', u'with', u'without',u'seem', u'bad',\n",
    "    u'nothing', u'everything', u'give', u'long', u'think', u'show', u'last', u'run', u'day', u'great', \n",
    "    u'try', u'yes', u'no', u'live', u'right', u'perhaps', u'already', u'never', u'ever', u'just',   \n",
    "    u'rather', u'however', u'real', u'least', u'good', u'bring', u'other', u'another', u'away', u'youre',     \n",
    "    u'enough', u'want', u'mine', u'yours', u'hear', u'either', u'nor', u'neither', u'look', u'however',\n",
    "    u'know', u'come', u'without', u'most', u'least', u'less', u'few', u'nah', u'bye', u'told'\n",
    "    u'often', u'nah', u'bye', u'little', u'high', u'anything', u'wrong', u'though', u'always', u'every', \n",
    "    u'around', u'yet', u'little', u'like']\n",
    "    \n",
    "    stopwords = stopwords_core + stopwords_custom\n",
    "    stopwords = [word.lower() for word in stopwords]    \n",
    "    \n",
    "    normalized = [lemma.lemmatize(word,'v') for word in words]\n",
    "    text_out = [re.sub('[^a-zA-Z0-9]','',word) for word in normalized]                                       # Remove special characters\n",
    "    text_out = [word.lower() for word in text_out if len(word)>2 and word.lower() not in stopwords]     # Remove stopwords and words under X length\n",
    "    \n",
    "    #normalized = \" \".join(lemma.lemmatize(word,'v') for word in words)\n",
    "    text_out = \" \".join(lemma.lemmatize(word,'v') for word in text_out)\n",
    " \n",
    "    #x = normalized.split()\n",
    "    #y = [s for s in x if len(s) > 2]\n",
    "    \n",
    "    return text_out"
   ]
  },
  {
   "cell_type": "code",
   "execution_count": 247,
   "metadata": {
    "collapsed": true
   },
   "outputs": [],
   "source": [
    "#def cleanup_text2(text):\n",
    "#    return \"j\""
   ]
  },
  {
   "cell_type": "code",
   "execution_count": 248,
   "metadata": {
    "collapsed": true
   },
   "outputs": [],
   "source": [
    "udf_cleantext = udf(cleanup_text, StringType())\n",
    "#print(data.comment_text)\n",
    "#comment_text.select(\"comment_text\").show()"
   ]
  },
  {
   "cell_type": "code",
   "execution_count": 249,
   "metadata": {},
   "outputs": [],
   "source": [
    "#cleanup_text('i see seem you dog')"
   ]
  },
  {
   "cell_type": "code",
   "execution_count": 250,
   "metadata": {},
   "outputs": [
    {
     "name": "stdout",
     "output_type": "stream",
     "text": [
      "+--------------------+\n",
      "|          clean_comm|\n",
      "+--------------------+\n",
      "|program work prob...|\n",
      "|offshoring revers...|\n",
      "|spell exploitatio...|\n",
      "+--------------------+\n",
      "only showing top 3 rows\n",
      "\n"
     ]
    }
   ],
   "source": [
    "clean_text = data.withColumn(\"clean_comm\", udf_cleantext(data.comment_text))\n",
    "clean_text.select(\"clean_comm\").show(3)"
   ]
  },
  {
   "cell_type": "code",
   "execution_count": 251,
   "metadata": {
    "collapsed": true
   },
   "outputs": [],
   "source": [
    "tokenizer = Tokenizer(inputCol=\"clean_comm\", outputCol=\"tokens\")"
   ]
  },
  {
   "cell_type": "code",
   "execution_count": 252,
   "metadata": {},
   "outputs": [
    {
     "name": "stdout",
     "output_type": "stream",
     "text": [
      "+--------------------+--------------------+\n",
      "|          clean_comm|              tokens|\n",
      "+--------------------+--------------------+\n",
      "|program work prob...|[program, work, p...|\n",
      "+--------------------+--------------------+\n",
      "only showing top 1 row\n",
      "\n"
     ]
    }
   ],
   "source": [
    "tokenized = tokenizer.transform(clean_text)\n",
    "e = tokenized.select(\"clean_comm\", \"tokens\")\n",
    "tokenized.select(\"clean_comm\", \"tokens\").show(1)"
   ]
  },
  {
   "cell_type": "code",
   "execution_count": 253,
   "metadata": {
    "collapsed": true
   },
   "outputs": [],
   "source": [
    "remover = StopWordsRemover(inputCol=\"tokens\", outputCol=\"tokens_Stop\")"
   ]
  },
  {
   "cell_type": "code",
   "execution_count": 254,
   "metadata": {},
   "outputs": [
    {
     "name": "stdout",
     "output_type": "stream",
     "text": [
      "+--------------------+\n",
      "|         tokens_Stop|\n",
      "+--------------------+\n",
      "|[program, work, p...|\n",
      "|[offshoring, reve...|\n",
      "+--------------------+\n",
      "only showing top 2 rows\n",
      "\n"
     ]
    }
   ],
   "source": [
    "t = remover.transform(e)\n",
    "tt = t.select('tokens_Stop')\n",
    "tt.show(2)"
   ]
  },
  {
   "cell_type": "code",
   "execution_count": 255,
   "metadata": {
    "collapsed": true
   },
   "outputs": [],
   "source": [
    "tt = tt.select('tokens_Stop')\n",
    "tt = tt.limit(100) #you can choose number or comments you want to run LDA on"
   ]
  },
  {
   "cell_type": "code",
   "execution_count": 256,
   "metadata": {
    "collapsed": true
   },
   "outputs": [],
   "source": [
    "#tt.toPandas().to_csv('cleaning.csv')  #-Uncomment if oyu want to save a cleaned model"
   ]
  },
  {
   "cell_type": "code",
   "execution_count": 257,
   "metadata": {
    "collapsed": true
   },
   "outputs": [],
   "source": [
    "#Term Frequency Vectorization  - Option 1 (HashingTF)\n",
    "#cv = HashingTF(inputCol=\"tokens_Stop\", outputCol=\"Rawfeatures\")\n",
    "#featurizedData = cv.transform(tt)\n",
    "#featurizedData.show(1)"
   ]
  },
  {
   "cell_type": "code",
   "execution_count": 258,
   "metadata": {},
   "outputs": [
    {
     "name": "stdout",
     "output_type": "stream",
     "text": [
      "used CV: 10.42s\n"
     ]
    }
   ],
   "source": [
    "# Term Frequency Vectorization  - Option 2 (CountVectorizer):\n",
    "start = time()\n",
    "cv = CountVectorizer(inputCol=\"tokens_Stop\", outputCol=\"Rawfeatures\")\n",
    "cvmodel = cv.fit(tt)\n",
    "featurizedData = cvmodel.transform(tt)\n",
    " \n",
    "vocab = cvmodel.vocabulary\n",
    "vocab_broadcast = sc.broadcast(vocab)\n",
    "print ('used CV: {:.2f}s'.format(time()-start))"
   ]
  },
  {
   "cell_type": "code",
   "execution_count": 259,
   "metadata": {},
   "outputs": [
    {
     "name": "stdout",
     "output_type": "stream",
     "text": [
      "used IDF: 8.93s\n"
     ]
    }
   ],
   "source": [
    "start = time()\n",
    "idf = IDF(inputCol=\"Rawfeatures\", outputCol=\"features\")\n",
    "idfModel = idf.fit(featurizedData)\n",
    "rescaledData = idfModel.transform(featurizedData) # TFIDF\n",
    "print ('used IDF: {:.2f}s'.format(time()-start))"
   ]
  },
  {
   "cell_type": "code",
   "execution_count": 260,
   "metadata": {},
   "outputs": [
    {
     "data": {
      "text/plain": [
       "100"
      ]
     },
     "execution_count": 260,
     "metadata": {},
     "output_type": "execute_result"
    }
   ],
   "source": [
    "rescaledData.count()"
   ]
  },
  {
   "cell_type": "code",
   "execution_count": 261,
   "metadata": {},
   "outputs": [
    {
     "data": {
      "text/plain": [
       "100"
      ]
     },
     "execution_count": 261,
     "metadata": {},
     "output_type": "execute_result"
    }
   ],
   "source": [
    "p = rescaledData.select('features')\n",
    "p = p.limit(100) # you can choose number or comments you want to run LDA on\n",
    "p.count()\n",
    "#p.show(3)"
   ]
  },
  {
   "cell_type": "code",
   "execution_count": 262,
   "metadata": {
    "collapsed": true
   },
   "outputs": [],
   "source": [
    "import logging\n",
    "logging.basicConfig(format='%(asctime)s : %(levelname)s : %(message)s', level=logging.INFO,\n",
    "                   filename='running.log',filemode='w')"
   ]
  },
  {
   "cell_type": "code",
   "execution_count": 263,
   "metadata": {},
   "outputs": [
    {
     "name": "stdout",
     "output_type": "stream",
     "text": [
      "used LDA: 53.82s\n"
     ]
    }
   ],
   "source": [
    "start = time()\n",
    "lda = LDA(k=3, maxIter=500)\n",
    "model = lda.fit(p)\n",
    "print ('used LDA: {:.2f}s'.format(time()-start))"
   ]
  },
  {
   "cell_type": "code",
   "execution_count": 264,
   "metadata": {},
   "outputs": [
    {
     "data": {
      "text/plain": [
       "False"
      ]
     },
     "execution_count": 264,
     "metadata": {},
     "output_type": "execute_result"
    }
   ],
   "source": [
    "model.isDistributed()"
   ]
  },
  {
   "cell_type": "code",
   "execution_count": 266,
   "metadata": {},
   "outputs": [
    {
     "name": "stdout",
     "output_type": "stream",
     "text": [
      "The topics described by their top-weighted terms:\n",
      "+-----+--------------------+--------------------+\n",
      "|topic|         termIndices|         termWeights|\n",
      "+-----+--------------------+--------------------+\n",
      "|    0|[34, 4, 16, 0, 14...|[0.01287190509133...|\n",
      "|    1|[62, 19, 154, 128...|[0.01319497678085...|\n",
      "|    2|[2, 31, 6, 3, 1, ...|[0.01015233606848...|\n",
      "+-----+--------------------+--------------------+\n",
      "\n",
      "used to Describe: 0.11s\n",
      "+----------------------------------------------------------------+\n",
      "|topicDistribution                                               |\n",
      "+----------------------------------------------------------------+\n",
      "|[2.0981264251791296E-4,2.0085659051352544E-4,0.9995893307669687]|\n",
      "|[3.7776624091903546E-4,0.9991202758699171,5.019578891636744E-4] |\n",
      "|[0.9986261792988835,5.753016157070577E-4,7.98519085409337E-4]   |\n",
      "|[2.619483679556125E-4,2.507668529729078E-4,0.9994872847790714]  |\n",
      "|[2.617934363704871E-4,2.506185347897054E-4,0.9994875880288397]  |\n",
      "|[2.2215674570558232E-4,0.7636671196411692,0.23611072361312513]  |\n",
      "|[1.7309239157280534E-4,0.8938648470993009,0.10596206050912615]  |\n",
      "|[4.5303419321372567E-4,4.336959982151025E-4,0.9991132698085712] |\n",
      "|[2.5385729237180593E-4,0.2944153673731471,0.7053307753344811]   |\n",
      "|[0.9840976872440715,0.0066592578016974385,0.009243054954230905] |\n",
      "+----------------------------------------------------------------+\n",
      "only showing top 10 rows\n",
      "\n",
      "used to Transform: 8.46s\n"
     ]
    }
   ],
   "source": [
    "#start = time()\n",
    "#ll = model.logLikelihood(p)\n",
    "#lp = model.logPerplexity(p)\n",
    "#print(\"The lower bound on the log likelihood of the entire corpus: \" + str(ll))\n",
    "#print(\"The upper bound on perplexity: \" + str(lp))\n",
    "#print ('used: {:.2f}s'.format(time()-start))\n",
    "\n",
    "start = time()\n",
    "# Describe topics.\n",
    "topics = model.describeTopics(15)\n",
    "print(\"The topics described by their top-weighted terms:\")\n",
    "topics.show(10)\n",
    "print ('used to Describe: {:.2f}s'.format(time()-start))\n",
    "\n",
    "start = time()\n",
    "# Shows the result\n",
    "transformed = model.transform(p)\n",
    "transformed = transformed.select(\"topicDistribution\")\n",
    "transformed.show(10, truncate = False)\n",
    "print ('used to Transform: {:.2f}s'.format(time()-start))"
   ]
  },
  {
   "cell_type": "code",
   "execution_count": 235,
   "metadata": {
    "collapsed": true
   },
   "outputs": [],
   "source": [
    "def indices_to_terms(vocabulary):\n",
    "    def indices_to_terms(xs):\n",
    "        return [vocabulary[int(x)] for x in xs]\n",
    "    return udf(indices_to_terms, ArrayType(StringType()))"
   ]
  },
  {
   "cell_type": "code",
   "execution_count": 236,
   "metadata": {},
   "outputs": [
    {
     "name": "stdout",
     "output_type": "stream",
     "text": [
      "+-----+--------------------+--------------------+\n",
      "|topic|         termWeights|        topics_words|\n",
      "+-----+--------------------+--------------------+\n",
      "|    0|[0.00443403499193...|[harper, cut, lib...|\n",
      "|    1|[0.00463649235893...|[aid, foreign, co...|\n",
      "|    2|[0.00616734533027...|[sector, pay, pub...|\n",
      "+-----+--------------------+--------------------+\n",
      "\n"
     ]
    }
   ],
   "source": [
    "hh = topics.withColumn(\"topics_words\", indices_to_terms(cvmodel.vocabulary)(\"termIndices\"))\n",
    "hh = hh.select(\"topic\", \"termWeights\", \"topics_words\")\n",
    "hh.show(10)"
   ]
  },
  {
   "cell_type": "code",
   "execution_count": 237,
   "metadata": {},
   "outputs": [
    {
     "data": {
      "text/html": [
       "<div>\n",
       "<style>\n",
       "    .dataframe thead tr:only-child th {\n",
       "        text-align: right;\n",
       "    }\n",
       "\n",
       "    .dataframe thead th {\n",
       "        text-align: left;\n",
       "    }\n",
       "\n",
       "    .dataframe tbody tr th {\n",
       "        vertical-align: top;\n",
       "    }\n",
       "</style>\n",
       "<table border=\"1\" class=\"dataframe\">\n",
       "  <thead>\n",
       "    <tr style=\"text-align: right;\">\n",
       "      <th></th>\n",
       "      <th>termWeights</th>\n",
       "      <th>topics_words</th>\n",
       "    </tr>\n",
       "    <tr>\n",
       "      <th>topic</th>\n",
       "      <th></th>\n",
       "      <th></th>\n",
       "    </tr>\n",
       "  </thead>\n",
       "  <tbody>\n",
       "    <tr>\n",
       "      <th>0</th>\n",
       "      <td>[0.004434034991930636, 0.0036769153040632457, ...</td>\n",
       "      <td>[harper, cut, liberal, budget, period, governm...</td>\n",
       "    </tr>\n",
       "    <tr>\n",
       "      <th>1</th>\n",
       "      <td>[0.004636492358932946, 0.0034561514449449916, ...</td>\n",
       "      <td>[aid, foreign, course, provinces, service, wor...</td>\n",
       "    </tr>\n",
       "    <tr>\n",
       "      <th>2</th>\n",
       "      <td>[0.006167345330277445, 0.0056876433071579, 0.0...</td>\n",
       "      <td>[sector, pay, public, workers, pension, sick, ...</td>\n",
       "    </tr>\n",
       "  </tbody>\n",
       "</table>\n",
       "</div>"
      ],
      "text/plain": [
       "                                             termWeights  \\\n",
       "topic                                                      \n",
       "0      [0.004434034991930636, 0.0036769153040632457, ...   \n",
       "1      [0.004636492358932946, 0.0034561514449449916, ...   \n",
       "2      [0.006167345330277445, 0.0056876433071579, 0.0...   \n",
       "\n",
       "                                            topics_words  \n",
       "topic                                                     \n",
       "0      [harper, cut, liberal, budget, period, governm...  \n",
       "1      [aid, foreign, course, provinces, service, wor...  \n",
       "2      [sector, pay, public, workers, pension, sick, ...  "
      ]
     },
     "execution_count": 237,
     "metadata": {},
     "output_type": "execute_result"
    }
   ],
   "source": [
    "yy = hh.toPandas().set_index('topic')\n",
    "yy"
   ]
  },
  {
   "cell_type": "code",
   "execution_count": 238,
   "metadata": {},
   "outputs": [],
   "source": [
    "#yyy=yy.rename_axis(None).T"
   ]
  },
  {
   "cell_type": "code",
   "execution_count": 239,
   "metadata": {},
   "outputs": [],
   "source": [
    "#yyy = yy['topics_words']\n",
    "#ttt= yy['topic']\n",
    "#yyy[0][0]\n",
    "#ttt[0]\n",
    "#yy['termWeights']"
   ]
  },
  {
   "cell_type": "code",
   "execution_count": 240,
   "metadata": {},
   "outputs": [
    {
     "data": {
      "image/png": "[encoded data removed]",
      "text/plain": [
       "<Figure size 1080x2160 with 3 Axes>"
      ]
     },
     "metadata": {},
     "output_type": "display_data"
    }
   ],
   "source": [
    "fiz=plt.figure(figsize=(15,30))\n",
    "for i in range(3):\n",
    "    plt.subplot(5,2,i+1)\n",
    "    plt.title('topics '+str(i+1))\n",
    "    sns.barplot(x=yy['termWeights'][i], y=yy['topics_words'][i], data=yy, label='Cities', palette='GnBu_d')\n",
    "    plt.xlabel('probability')\n",
    "plt.show()"
   ]
  },
  {
   "cell_type": "code",
   "execution_count": 210,
   "metadata": {
    "collapsed": true
   },
   "outputs": [],
   "source": [
    "yy = yy.to_excel('topics_spark.xlsx')"
   ]
  },
  {
   "cell_type": "code",
   "execution_count": 241,
   "metadata": {
    "collapsed": true
   },
   "outputs": [],
   "source": [
    "features_words = transformed.withColumn(\"comments_words\", indices_to_terms(cvmodel.vocabulary)(\"features\"))"
   ]
  },
  {
   "cell_type": "code",
   "execution_count": 242,
   "metadata": {},
   "outputs": [
    {
     "name": "stdout",
     "output_type": "stream",
     "text": [
      "+--------------------+--------------------+--------------------+\n",
      "|            features|   topicDistribution|      comments_words|\n",
      "+--------------------+--------------------+--------------------+\n",
      "|(6656,[0,9,28,31,...|[0.00177947888481...|[pay, work, work,...|\n",
      "|(6656,[1,14,38,74...|[0.83283161577517...|[work, government...|\n",
      "|(6656,[131,140,33...|[0.00496104846695...|[work, work, work...|\n",
      "+--------------------+--------------------+--------------------+\n",
      "only showing top 3 rows\n",
      "\n"
     ]
    }
   ],
   "source": [
    "features_words.show(3, truncate = False)"
   ]
  },
  {
   "cell_type": "code",
   "execution_count": 243,
   "metadata": {},
   "outputs": [
    {
     "data": {
      "text/html": [
       "<div>\n",
       "<style>\n",
       "    .dataframe thead tr:only-child th {\n",
       "        text-align: right;\n",
       "    }\n",
       "\n",
       "    .dataframe thead th {\n",
       "        text-align: left;\n",
       "    }\n",
       "\n",
       "    .dataframe tbody tr th {\n",
       "        vertical-align: top;\n",
       "    }\n",
       "</style>\n",
       "<table border=\"1\" class=\"dataframe\">\n",
       "  <thead>\n",
       "    <tr style=\"text-align: right;\">\n",
       "      <th></th>\n",
       "      <th>features</th>\n",
       "      <th>topicDistribution</th>\n",
       "      <th>comments_words</th>\n",
       "    </tr>\n",
       "  </thead>\n",
       "  <tbody>\n",
       "    <tr>\n",
       "      <th>0</th>\n",
       "      <td>(1.71579792843, 0.0, 0.0, 0.0, 0.0, 0.0, 0.0, ...</td>\n",
       "      <td>[0.00177845393118, 0.43946802263, 0.558753523439]</td>\n",
       "      <td>[pay, work, work, work, work, work, work, work...</td>\n",
       "    </tr>\n",
       "    <tr>\n",
       "      <th>1</th>\n",
       "      <td>(0.0, 3.63000915702, 0.0, 0.0, 0.0, 0.0, 0.0, ...</td>\n",
       "      <td>[0.832824817338, 0.00303283850055, 0.164142344...</td>\n",
       "      <td>[work, government, work, work, work, work, wor...</td>\n",
       "    </tr>\n",
       "    <tr>\n",
       "      <th>2</th>\n",
       "      <td>(0.0, 0.0, 0.0, 0.0, 0.0, 0.0, 0.0, 0.0, 0.0, ...</td>\n",
       "      <td>[0.00496234921287, 0.989955290641, 0.005082360...</td>\n",
       "      <td>[work, work, work, work, work, work, work, wor...</td>\n",
       "    </tr>\n",
       "    <tr>\n",
       "      <th>3</th>\n",
       "      <td>(1.71579792843, 0.0, 0.0, 0.0, 0.0, 0.0, 0.0, ...</td>\n",
       "      <td>[0.770094585431, 0.00188707946977, 0.228018335...</td>\n",
       "      <td>[pay, work, work, work, work, work, work, work...</td>\n",
       "    </tr>\n",
       "    <tr>\n",
       "      <th>4</th>\n",
       "      <td>(0.0, 3.63000915702, 0.0, 1.7496994801, 0.0, 0...</td>\n",
       "      <td>[0.204717468006, 0.427699534003, 0.367582997991]</td>\n",
       "      <td>[work, government, work, pay, work, work, work...</td>\n",
       "    </tr>\n",
       "    <tr>\n",
       "      <th>5</th>\n",
       "      <td>(3.43159585685, 1.81500457851, 0.0, 0.0, 0.0, ...</td>\n",
       "      <td>[0.354969502903, 0.00176866261174, 0.643261834...</td>\n",
       "      <td>[government, pay, work, work, work, work, work...</td>\n",
       "    </tr>\n",
       "    <tr>\n",
       "      <th>6</th>\n",
       "      <td>(0.0, 0.0, 0.0, 1.7496994801, 0.0, 1.904808473...</td>\n",
       "      <td>[0.00138360557051, 0.0943995122316, 0.90421688...</td>\n",
       "      <td>[work, work, work, pay, work, pay, work, work,...</td>\n",
       "    </tr>\n",
       "    <tr>\n",
       "      <th>7</th>\n",
       "      <td>(1.71579792843, 0.0, 0.0, 0.0, 0.0, 0.0, 0.0, ...</td>\n",
       "      <td>[0.917249901203, 0.00306825926426, 0.079681839...</td>\n",
       "      <td>[pay, work, work, work, work, work, work, work...</td>\n",
       "    </tr>\n",
       "    <tr>\n",
       "      <th>8</th>\n",
       "      <td>(1.71579792843, 3.63000915702, 0.0, 0.0, 0.0, ...</td>\n",
       "      <td>[0.640438010351, 0.0020294474717, 0.357532542178]</td>\n",
       "      <td>[pay, government, work, work, work, pay, work,...</td>\n",
       "    </tr>\n",
       "    <tr>\n",
       "      <th>9</th>\n",
       "      <td>(0.0, 0.0, 0.0, 0.0, 0.0, 0.0, 0.0, 0.0, 0.0, ...</td>\n",
       "      <td>[0.0507085373731, 0.895944810739, 0.0533466518...</td>\n",
       "      <td>[work, work, work, work, work, work, work, wor...</td>\n",
       "    </tr>\n",
       "    <tr>\n",
       "      <th>10</th>\n",
       "      <td>(0.0, 0.0, 0.0, 0.0, 0.0, 0.0, 0.0, 0.0, 0.0, ...</td>\n",
       "      <td>[0.569842120063, 0.00289591144426, 0.427261968...</td>\n",
       "      <td>[work, work, work, work, work, work, work, wor...</td>\n",
       "    </tr>\n",
       "    <tr>\n",
       "      <th>11</th>\n",
       "      <td>(5.14739378528, 1.81500457851, 0.0, 0.0, 0.0, ...</td>\n",
       "      <td>[0.418314122447, 0.397524444813, 0.18416143274]</td>\n",
       "      <td>[people, pay, work, work, work, pay, work, wor...</td>\n",
       "    </tr>\n",
       "    <tr>\n",
       "      <th>12</th>\n",
       "      <td>(0.0, 0.0, 0.0, 0.0, 0.0, 0.0, 0.0, 0.0, 0.0, ...</td>\n",
       "      <td>[0.0144323589557, 0.970126751012, 0.015440890032]</td>\n",
       "      <td>[work, work, work, work, work, work, work, wor...</td>\n",
       "    </tr>\n",
       "    <tr>\n",
       "      <th>13</th>\n",
       "      <td>(1.71579792843, 0.0, 0.0, 0.0, 0.0, 0.0, 0.0, ...</td>\n",
       "      <td>[0.28375671572, 0.0134259279911, 0.702817356289]</td>\n",
       "      <td>[pay, work, work, work, work, work, work, work...</td>\n",
       "    </tr>\n",
       "    <tr>\n",
       "      <th>14</th>\n",
       "      <td>(0.0, 0.0, 0.0, 0.0, 0.0, 0.0, 0.0, 0.0, 0.0, ...</td>\n",
       "      <td>[0.944394884963, 0.0268471133883, 0.0287580016...</td>\n",
       "      <td>[work, work, work, work, work, work, work, wor...</td>\n",
       "    </tr>\n",
       "    <tr>\n",
       "      <th>15</th>\n",
       "      <td>(3.43159585685, 3.63000915702, 0.0, 0.0, 0.0, ...</td>\n",
       "      <td>[0.62039396818, 0.0756954835261, 0.303910548294]</td>\n",
       "      <td>[government, government, work, work, work, wor...</td>\n",
       "    </tr>\n",
       "    <tr>\n",
       "      <th>16</th>\n",
       "      <td>(0.0, 0.0, 0.0, 0.0, 0.0, 0.0, 0.0, 0.0, 0.0, ...</td>\n",
       "      <td>[0.932061358614, 0.0558596829789, 0.0120789584...</td>\n",
       "      <td>[work, work, work, work, work, work, work, wor...</td>\n",
       "    </tr>\n",
       "    <tr>\n",
       "      <th>17</th>\n",
       "      <td>(0.0, 0.0, 1.74396880539, 0.0, 0.0, 0.0, 0.0, ...</td>\n",
       "      <td>[0.256312573428, 0.182162534062, 0.56152489251]</td>\n",
       "      <td>[work, work, pay, work, work, work, work, work...</td>\n",
       "    </tr>\n",
       "    <tr>\n",
       "      <th>18</th>\n",
       "      <td>(1.71579792843, 1.81500457851, 0.0, 0.0, 0.0, ...</td>\n",
       "      <td>[0.546888843916, 0.00245706428356, 0.4506540918]</td>\n",
       "      <td>[pay, pay, work, work, work, work, work, work,...</td>\n",
       "    </tr>\n",
       "    <tr>\n",
       "      <th>19</th>\n",
       "      <td>(1.71579792843, 0.0, 0.0, 0.0, 0.0, 0.0, 0.0, ...</td>\n",
       "      <td>[0.00855033695719, 0.00802516105873, 0.9834245...</td>\n",
       "      <td>[pay, work, work, work, work, work, work, work...</td>\n",
       "    </tr>\n",
       "    <tr>\n",
       "      <th>20</th>\n",
       "      <td>(0.0, 0.0, 0.0, 0.0, 0.0, 0.0, 0.0, 0.0, 0.0, ...</td>\n",
       "      <td>[0.00593249062328, 0.00576371374299, 0.9883037...</td>\n",
       "      <td>[work, work, work, work, work, work, work, wor...</td>\n",
       "    </tr>\n",
       "    <tr>\n",
       "      <th>21</th>\n",
       "      <td>(1.71579792843, 1.81500457851, 0.0, 0.0, 0.0, ...</td>\n",
       "      <td>[0.00217445452283, 0.00225678069273, 0.9955687...</td>\n",
       "      <td>[pay, pay, work, work, work, pay, work, work, ...</td>\n",
       "    </tr>\n",
       "    <tr>\n",
       "      <th>22</th>\n",
       "      <td>(0.0, 0.0, 0.0, 1.7496994801, 0.0, 1.904808473...</td>\n",
       "      <td>[0.175592177161, 0.00237885661317, 0.822028966...</td>\n",
       "      <td>[work, work, work, pay, work, pay, work, work,...</td>\n",
       "    </tr>\n",
       "    <tr>\n",
       "      <th>23</th>\n",
       "      <td>(0.0, 0.0, 0.0, 3.4993989602, 0.0, 3.809616946...</td>\n",
       "      <td>[0.335474793646, 0.189602117753, 0.474923088601]</td>\n",
       "      <td>[work, work, work, government, work, governmen...</td>\n",
       "    </tr>\n",
       "    <tr>\n",
       "      <th>24</th>\n",
       "      <td>(0.0, 0.0, 0.0, 0.0, 0.0, 0.0, 0.0, 0.0, 0.0, ...</td>\n",
       "      <td>[0.00175809839342, 0.868525922131, 0.129715979...</td>\n",
       "      <td>[work, work, work, work, work, work, work, wor...</td>\n",
       "    </tr>\n",
       "    <tr>\n",
       "      <th>25</th>\n",
       "      <td>(5.14739378528, 0.0, 0.0, 0.0, 0.0, 1.90480847...</td>\n",
       "      <td>[0.396407643229, 0.235134032521, 0.36845832425]</td>\n",
       "      <td>[people, work, work, work, work, pay, work, wo...</td>\n",
       "    </tr>\n",
       "    <tr>\n",
       "      <th>26</th>\n",
       "      <td>(5.14739378528, 0.0, 0.0, 0.0, 0.0, 3.80961694...</td>\n",
       "      <td>[0.24730253827, 0.0015146755141, 0.751182786216]</td>\n",
       "      <td>[people, work, work, work, work, government, w...</td>\n",
       "    </tr>\n",
       "    <tr>\n",
       "      <th>27</th>\n",
       "      <td>(1.71579792843, 1.81500457851, 0.0, 0.0, 0.0, ...</td>\n",
       "      <td>[0.996898296347, 0.00153827138146, 0.001563432...</td>\n",
       "      <td>[pay, pay, work, work, work, work, work, work,...</td>\n",
       "    </tr>\n",
       "    <tr>\n",
       "      <th>28</th>\n",
       "      <td>(0.0, 1.81500457851, 0.0, 0.0, 0.0, 0.0, 0.0, ...</td>\n",
       "      <td>[0.00508127733672, 0.00536944352062, 0.9895492...</td>\n",
       "      <td>[work, pay, work, work, work, work, work, work...</td>\n",
       "    </tr>\n",
       "    <tr>\n",
       "      <th>29</th>\n",
       "      <td>(0.0, 0.0, 0.0, 0.0, 0.0, 1.90480847337, 0.0, ...</td>\n",
       "      <td>[0.560393001485, 0.0083046211293, 0.431302377386]</td>\n",
       "      <td>[work, work, work, work, work, pay, work, work...</td>\n",
       "    </tr>\n",
       "    <tr>\n",
       "      <th>...</th>\n",
       "      <td>...</td>\n",
       "      <td>...</td>\n",
       "      <td>...</td>\n",
       "    </tr>\n",
       "    <tr>\n",
       "      <th>970</th>\n",
       "      <td>(0.0, 0.0, 0.0, 0.0, 0.0, 0.0, 0.0, 0.0, 0.0, ...</td>\n",
       "      <td>[0.960730774354, 0.0184947754972, 0.0207744501...</td>\n",
       "      <td>[work, work, work, work, work, work, work, wor...</td>\n",
       "    </tr>\n",
       "    <tr>\n",
       "      <th>971</th>\n",
       "      <td>(0.0, 0.0, 0.0, 0.0, 0.0, 0.0, 0.0, 0.0, 0.0, ...</td>\n",
       "      <td>[0.0120899329342, 0.975427185589, 0.0124828814...</td>\n",
       "      <td>[work, work, work, work, work, work, work, wor...</td>\n",
       "    </tr>\n",
       "    <tr>\n",
       "      <th>972</th>\n",
       "      <td>(0.0, 0.0, 0.0, 0.0, 0.0, 0.0, 0.0, 0.0, 0.0, ...</td>\n",
       "      <td>[0.0230573956523, 0.952709407183, 0.0242331971...</td>\n",
       "      <td>[work, work, work, work, work, work, work, wor...</td>\n",
       "    </tr>\n",
       "    <tr>\n",
       "      <th>973</th>\n",
       "      <td>(0.0, 0.0, 0.0, 0.0, 0.0, 0.0, 0.0, 0.0, 0.0, ...</td>\n",
       "      <td>[0.977549118645, 0.0107137632015, 0.0117371181...</td>\n",
       "      <td>[work, work, work, work, work, work, work, wor...</td>\n",
       "    </tr>\n",
       "    <tr>\n",
       "      <th>974</th>\n",
       "      <td>(0.0, 0.0, 0.0, 1.7496994801, 0.0, 0.0, 0.0, 0...</td>\n",
       "      <td>[0.186094181558, 0.811710381862, 0.00219543658...</td>\n",
       "      <td>[work, work, work, pay, work, work, work, work...</td>\n",
       "    </tr>\n",
       "    <tr>\n",
       "      <th>975</th>\n",
       "      <td>(0.0, 0.0, 0.0, 0.0, 0.0, 0.0, 0.0, 0.0, 0.0, ...</td>\n",
       "      <td>[0.00820897228781, 0.983252056204, 0.008538971...</td>\n",
       "      <td>[work, work, work, work, work, work, work, wor...</td>\n",
       "    </tr>\n",
       "    <tr>\n",
       "      <th>976</th>\n",
       "      <td>(0.0, 0.0, 0.0, 0.0, 0.0, 0.0, 0.0, 0.0, 0.0, ...</td>\n",
       "      <td>[0.0440342519582, 0.907774770838, 0.0481909772...</td>\n",
       "      <td>[work, work, work, work, work, work, work, wor...</td>\n",
       "    </tr>\n",
       "    <tr>\n",
       "      <th>977</th>\n",
       "      <td>(1.71579792843, 0.0, 0.0, 0.0, 0.0, 0.0, 0.0, ...</td>\n",
       "      <td>[0.0478772069877, 0.899193626622, 0.0529291663...</td>\n",
       "      <td>[pay, work, work, work, work, work, work, work...</td>\n",
       "    </tr>\n",
       "    <tr>\n",
       "      <th>978</th>\n",
       "      <td>(0.0, 0.0, 0.0, 6.9987979204, 0.0, 0.0, 0.0, 0...</td>\n",
       "      <td>[0.207037895754, 0.640411772503, 0.152550331743]</td>\n",
       "      <td>[work, work, work, sick, work, work, work, wor...</td>\n",
       "    </tr>\n",
       "    <tr>\n",
       "      <th>979</th>\n",
       "      <td>(0.0, 0.0, 0.0, 0.0, 0.0, 0.0, 0.0, 0.0, 0.0, ...</td>\n",
       "      <td>[0.0086871359829, 0.982287947338, 0.0090249166...</td>\n",
       "      <td>[work, work, work, work, work, work, work, wor...</td>\n",
       "    </tr>\n",
       "    <tr>\n",
       "      <th>980</th>\n",
       "      <td>(1.71579792843, 0.0, 0.0, 1.7496994801, 0.0, 0...</td>\n",
       "      <td>[0.375629263444, 0.554305015277, 0.0700657212795]</td>\n",
       "      <td>[pay, work, work, pay, work, work, work, work,...</td>\n",
       "    </tr>\n",
       "    <tr>\n",
       "      <th>981</th>\n",
       "      <td>(0.0, 0.0, 0.0, 0.0, 0.0, 0.0, 0.0, 0.0, 2.408...</td>\n",
       "      <td>[0.00481846534743, 0.439070207446, 0.556111327...</td>\n",
       "      <td>[work, work, work, work, work, work, work, wor...</td>\n",
       "    </tr>\n",
       "    <tr>\n",
       "      <th>982</th>\n",
       "      <td>(0.0, 0.0, 0.0, 0.0, 0.0, 0.0, 0.0, 0.0, 0.0, ...</td>\n",
       "      <td>[0.190526412371, 0.806348834357, 0.00312475327...</td>\n",
       "      <td>[work, work, work, work, work, work, work, wor...</td>\n",
       "    </tr>\n",
       "    <tr>\n",
       "      <th>983</th>\n",
       "      <td>(0.0, 0.0, 0.0, 1.7496994801, 0.0, 0.0, 0.0, 0...</td>\n",
       "      <td>[0.851670376156, 0.140528292043, 0.00780133180...</td>\n",
       "      <td>[work, work, work, pay, work, work, work, work...</td>\n",
       "    </tr>\n",
       "    <tr>\n",
       "      <th>984</th>\n",
       "      <td>(0.0, 0.0, 0.0, 0.0, 0.0, 0.0, 0.0, 0.0, 0.0, ...</td>\n",
       "      <td>[0.976451134305, 0.0108596189082, 0.0126892467...</td>\n",
       "      <td>[work, work, work, work, work, work, work, wor...</td>\n",
       "    </tr>\n",
       "    <tr>\n",
       "      <th>985</th>\n",
       "      <td>(0.0, 0.0, 0.0, 0.0, 0.0, 0.0, 0.0, 0.0, 0.0, ...</td>\n",
       "      <td>[0.0163943494669, 0.966342517612, 0.0172631329...</td>\n",
       "      <td>[work, work, work, work, work, work, work, wor...</td>\n",
       "    </tr>\n",
       "    <tr>\n",
       "      <th>986</th>\n",
       "      <td>(0.0, 0.0, 0.0, 1.7496994801, 0.0, 0.0, 0.0, 0...</td>\n",
       "      <td>[0.859098004014, 0.137000340572, 0.00390165541...</td>\n",
       "      <td>[work, work, work, pay, work, work, work, work...</td>\n",
       "    </tr>\n",
       "    <tr>\n",
       "      <th>987</th>\n",
       "      <td>(0.0, 0.0, 0.0, 3.4993989602, 0.0, 0.0, 0.0, 0...</td>\n",
       "      <td>[0.271790936085, 0.727009419526, 0.00119964438...</td>\n",
       "      <td>[work, work, work, government, work, work, wor...</td>\n",
       "    </tr>\n",
       "    <tr>\n",
       "      <th>988</th>\n",
       "      <td>(0.0, 0.0, 0.0, 0.0, 0.0, 0.0, 0.0, 0.0, 0.0, ...</td>\n",
       "      <td>[0.299980675964, 0.697607791162, 0.00241153287...</td>\n",
       "      <td>[work, work, work, work, work, work, work, wor...</td>\n",
       "    </tr>\n",
       "    <tr>\n",
       "      <th>989</th>\n",
       "      <td>(0.0, 0.0, 0.0, 0.0, 0.0, 0.0, 0.0, 0.0, 0.0, ...</td>\n",
       "      <td>[0.00865099540981, 0.982308330641, 0.009040673...</td>\n",
       "      <td>[work, work, work, work, work, work, work, wor...</td>\n",
       "    </tr>\n",
       "    <tr>\n",
       "      <th>990</th>\n",
       "      <td>(0.0, 0.0, 0.0, 0.0, 0.0, 0.0, 0.0, 0.0, 0.0, ...</td>\n",
       "      <td>[0.00385259262622, 0.683428791727, 0.312718615...</td>\n",
       "      <td>[work, work, work, work, work, work, work, wor...</td>\n",
       "    </tr>\n",
       "    <tr>\n",
       "      <th>991</th>\n",
       "      <td>(0.0, 0.0, 0.0, 0.0, 0.0, 0.0, 0.0, 0.0, 0.0, ...</td>\n",
       "      <td>[0.983682993488, 0.00844783864082, 0.007869167...</td>\n",
       "      <td>[work, work, work, work, work, work, work, wor...</td>\n",
       "    </tr>\n",
       "    <tr>\n",
       "      <th>992</th>\n",
       "      <td>(0.0, 0.0, 0.0, 1.7496994801, 0.0, 0.0, 0.0, 0...</td>\n",
       "      <td>[0.152956805629, 0.454881087691, 0.392162106681]</td>\n",
       "      <td>[work, work, work, pay, work, work, work, work...</td>\n",
       "    </tr>\n",
       "    <tr>\n",
       "      <th>993</th>\n",
       "      <td>(0.0, 0.0, 0.0, 0.0, 0.0, 0.0, 0.0, 0.0, 0.0, ...</td>\n",
       "      <td>[0.0435815203429, 0.952120193002, 0.0042982866...</td>\n",
       "      <td>[work, work, work, work, work, work, work, wor...</td>\n",
       "    </tr>\n",
       "    <tr>\n",
       "      <th>994</th>\n",
       "      <td>(0.0, 0.0, 0.0, 0.0, 0.0, 0.0, 0.0, 0.0, 0.0, ...</td>\n",
       "      <td>[0.00839428261641, 0.982778402857, 0.008827314...</td>\n",
       "      <td>[work, work, work, work, work, work, work, wor...</td>\n",
       "    </tr>\n",
       "    <tr>\n",
       "      <th>995</th>\n",
       "      <td>(0.0, 0.0, 0.0, 0.0, 0.0, 0.0, 0.0, 0.0, 0.0, ...</td>\n",
       "      <td>[0.974501813087, 0.0118397619499, 0.0136584249...</td>\n",
       "      <td>[work, work, work, work, work, work, work, wor...</td>\n",
       "    </tr>\n",
       "    <tr>\n",
       "      <th>996</th>\n",
       "      <td>(0.0, 0.0, 0.0, 0.0, 0.0, 1.90480847337, 0.0, ...</td>\n",
       "      <td>[0.00474888689409, 0.901601454962, 0.093649658...</td>\n",
       "      <td>[work, work, work, work, work, pay, work, work...</td>\n",
       "    </tr>\n",
       "    <tr>\n",
       "      <th>997</th>\n",
       "      <td>(0.0, 0.0, 0.0, 0.0, 0.0, 0.0, 0.0, 0.0, 0.0, ...</td>\n",
       "      <td>[0.99309968725, 0.00315834449889, 0.0037419682...</td>\n",
       "      <td>[work, work, work, work, work, work, work, wor...</td>\n",
       "    </tr>\n",
       "    <tr>\n",
       "      <th>998</th>\n",
       "      <td>(0.0, 0.0, 0.0, 0.0, 0.0, 0.0, 0.0, 0.0, 0.0, ...</td>\n",
       "      <td>[0.43814222715, 0.187153524721, 0.374704248129]</td>\n",
       "      <td>[work, work, work, work, work, work, work, wor...</td>\n",
       "    </tr>\n",
       "    <tr>\n",
       "      <th>999</th>\n",
       "      <td>(0.0, 0.0, 0.0, 0.0, 0.0, 0.0, 0.0, 0.0, 0.0, ...</td>\n",
       "      <td>[0.0222654249662, 0.954367093882, 0.0233674811...</td>\n",
       "      <td>[work, work, work, work, work, work, work, wor...</td>\n",
       "    </tr>\n",
       "  </tbody>\n",
       "</table>\n",
       "<p>1000 rows × 3 columns</p>\n",
       "</div>"
      ],
      "text/plain": [
       "                                              features  \\\n",
       "0    (1.71579792843, 0.0, 0.0, 0.0, 0.0, 0.0, 0.0, ...   \n",
       "1    (0.0, 3.63000915702, 0.0, 0.0, 0.0, 0.0, 0.0, ...   \n",
       "2    (0.0, 0.0, 0.0, 0.0, 0.0, 0.0, 0.0, 0.0, 0.0, ...   \n",
       "3    (1.71579792843, 0.0, 0.0, 0.0, 0.0, 0.0, 0.0, ...   \n",
       "4    (0.0, 3.63000915702, 0.0, 1.7496994801, 0.0, 0...   \n",
       "5    (3.43159585685, 1.81500457851, 0.0, 0.0, 0.0, ...   \n",
       "6    (0.0, 0.0, 0.0, 1.7496994801, 0.0, 1.904808473...   \n",
       "7    (1.71579792843, 0.0, 0.0, 0.0, 0.0, 0.0, 0.0, ...   \n",
       "8    (1.71579792843, 3.63000915702, 0.0, 0.0, 0.0, ...   \n",
       "9    (0.0, 0.0, 0.0, 0.0, 0.0, 0.0, 0.0, 0.0, 0.0, ...   \n",
       "10   (0.0, 0.0, 0.0, 0.0, 0.0, 0.0, 0.0, 0.0, 0.0, ...   \n",
       "11   (5.14739378528, 1.81500457851, 0.0, 0.0, 0.0, ...   \n",
       "12   (0.0, 0.0, 0.0, 0.0, 0.0, 0.0, 0.0, 0.0, 0.0, ...   \n",
       "13   (1.71579792843, 0.0, 0.0, 0.0, 0.0, 0.0, 0.0, ...   \n",
       "14   (0.0, 0.0, 0.0, 0.0, 0.0, 0.0, 0.0, 0.0, 0.0, ...   \n",
       "15   (3.43159585685, 3.63000915702, 0.0, 0.0, 0.0, ...   \n",
       "16   (0.0, 0.0, 0.0, 0.0, 0.0, 0.0, 0.0, 0.0, 0.0, ...   \n",
       "17   (0.0, 0.0, 1.74396880539, 0.0, 0.0, 0.0, 0.0, ...   \n",
       "18   (1.71579792843, 1.81500457851, 0.0, 0.0, 0.0, ...   \n",
       "19   (1.71579792843, 0.0, 0.0, 0.0, 0.0, 0.0, 0.0, ...   \n",
       "20   (0.0, 0.0, 0.0, 0.0, 0.0, 0.0, 0.0, 0.0, 0.0, ...   \n",
       "21   (1.71579792843, 1.81500457851, 0.0, 0.0, 0.0, ...   \n",
       "22   (0.0, 0.0, 0.0, 1.7496994801, 0.0, 1.904808473...   \n",
       "23   (0.0, 0.0, 0.0, 3.4993989602, 0.0, 3.809616946...   \n",
       "24   (0.0, 0.0, 0.0, 0.0, 0.0, 0.0, 0.0, 0.0, 0.0, ...   \n",
       "25   (5.14739378528, 0.0, 0.0, 0.0, 0.0, 1.90480847...   \n",
       "26   (5.14739378528, 0.0, 0.0, 0.0, 0.0, 3.80961694...   \n",
       "27   (1.71579792843, 1.81500457851, 0.0, 0.0, 0.0, ...   \n",
       "28   (0.0, 1.81500457851, 0.0, 0.0, 0.0, 0.0, 0.0, ...   \n",
       "29   (0.0, 0.0, 0.0, 0.0, 0.0, 1.90480847337, 0.0, ...   \n",
       "..                                                 ...   \n",
       "970  (0.0, 0.0, 0.0, 0.0, 0.0, 0.0, 0.0, 0.0, 0.0, ...   \n",
       "971  (0.0, 0.0, 0.0, 0.0, 0.0, 0.0, 0.0, 0.0, 0.0, ...   \n",
       "972  (0.0, 0.0, 0.0, 0.0, 0.0, 0.0, 0.0, 0.0, 0.0, ...   \n",
       "973  (0.0, 0.0, 0.0, 0.0, 0.0, 0.0, 0.0, 0.0, 0.0, ...   \n",
       "974  (0.0, 0.0, 0.0, 1.7496994801, 0.0, 0.0, 0.0, 0...   \n",
       "975  (0.0, 0.0, 0.0, 0.0, 0.0, 0.0, 0.0, 0.0, 0.0, ...   \n",
       "976  (0.0, 0.0, 0.0, 0.0, 0.0, 0.0, 0.0, 0.0, 0.0, ...   \n",
       "977  (1.71579792843, 0.0, 0.0, 0.0, 0.0, 0.0, 0.0, ...   \n",
       "978  (0.0, 0.0, 0.0, 6.9987979204, 0.0, 0.0, 0.0, 0...   \n",
       "979  (0.0, 0.0, 0.0, 0.0, 0.0, 0.0, 0.0, 0.0, 0.0, ...   \n",
       "980  (1.71579792843, 0.0, 0.0, 1.7496994801, 0.0, 0...   \n",
       "981  (0.0, 0.0, 0.0, 0.0, 0.0, 0.0, 0.0, 0.0, 2.408...   \n",
       "982  (0.0, 0.0, 0.0, 0.0, 0.0, 0.0, 0.0, 0.0, 0.0, ...   \n",
       "983  (0.0, 0.0, 0.0, 1.7496994801, 0.0, 0.0, 0.0, 0...   \n",
       "984  (0.0, 0.0, 0.0, 0.0, 0.0, 0.0, 0.0, 0.0, 0.0, ...   \n",
       "985  (0.0, 0.0, 0.0, 0.0, 0.0, 0.0, 0.0, 0.0, 0.0, ...   \n",
       "986  (0.0, 0.0, 0.0, 1.7496994801, 0.0, 0.0, 0.0, 0...   \n",
       "987  (0.0, 0.0, 0.0, 3.4993989602, 0.0, 0.0, 0.0, 0...   \n",
       "988  (0.0, 0.0, 0.0, 0.0, 0.0, 0.0, 0.0, 0.0, 0.0, ...   \n",
       "989  (0.0, 0.0, 0.0, 0.0, 0.0, 0.0, 0.0, 0.0, 0.0, ...   \n",
       "990  (0.0, 0.0, 0.0, 0.0, 0.0, 0.0, 0.0, 0.0, 0.0, ...   \n",
       "991  (0.0, 0.0, 0.0, 0.0, 0.0, 0.0, 0.0, 0.0, 0.0, ...   \n",
       "992  (0.0, 0.0, 0.0, 1.7496994801, 0.0, 0.0, 0.0, 0...   \n",
       "993  (0.0, 0.0, 0.0, 0.0, 0.0, 0.0, 0.0, 0.0, 0.0, ...   \n",
       "994  (0.0, 0.0, 0.0, 0.0, 0.0, 0.0, 0.0, 0.0, 0.0, ...   \n",
       "995  (0.0, 0.0, 0.0, 0.0, 0.0, 0.0, 0.0, 0.0, 0.0, ...   \n",
       "996  (0.0, 0.0, 0.0, 0.0, 0.0, 1.90480847337, 0.0, ...   \n",
       "997  (0.0, 0.0, 0.0, 0.0, 0.0, 0.0, 0.0, 0.0, 0.0, ...   \n",
       "998  (0.0, 0.0, 0.0, 0.0, 0.0, 0.0, 0.0, 0.0, 0.0, ...   \n",
       "999  (0.0, 0.0, 0.0, 0.0, 0.0, 0.0, 0.0, 0.0, 0.0, ...   \n",
       "\n",
       "                                     topicDistribution  \\\n",
       "0    [0.00177845393118, 0.43946802263, 0.558753523439]   \n",
       "1    [0.832824817338, 0.00303283850055, 0.164142344...   \n",
       "2    [0.00496234921287, 0.989955290641, 0.005082360...   \n",
       "3    [0.770094585431, 0.00188707946977, 0.228018335...   \n",
       "4     [0.204717468006, 0.427699534003, 0.367582997991]   \n",
       "5    [0.354969502903, 0.00176866261174, 0.643261834...   \n",
       "6    [0.00138360557051, 0.0943995122316, 0.90421688...   \n",
       "7    [0.917249901203, 0.00306825926426, 0.079681839...   \n",
       "8    [0.640438010351, 0.0020294474717, 0.357532542178]   \n",
       "9    [0.0507085373731, 0.895944810739, 0.0533466518...   \n",
       "10   [0.569842120063, 0.00289591144426, 0.427261968...   \n",
       "11     [0.418314122447, 0.397524444813, 0.18416143274]   \n",
       "12   [0.0144323589557, 0.970126751012, 0.015440890032]   \n",
       "13    [0.28375671572, 0.0134259279911, 0.702817356289]   \n",
       "14   [0.944394884963, 0.0268471133883, 0.0287580016...   \n",
       "15    [0.62039396818, 0.0756954835261, 0.303910548294]   \n",
       "16   [0.932061358614, 0.0558596829789, 0.0120789584...   \n",
       "17     [0.256312573428, 0.182162534062, 0.56152489251]   \n",
       "18    [0.546888843916, 0.00245706428356, 0.4506540918]   \n",
       "19   [0.00855033695719, 0.00802516105873, 0.9834245...   \n",
       "20   [0.00593249062328, 0.00576371374299, 0.9883037...   \n",
       "21   [0.00217445452283, 0.00225678069273, 0.9955687...   \n",
       "22   [0.175592177161, 0.00237885661317, 0.822028966...   \n",
       "23    [0.335474793646, 0.189602117753, 0.474923088601]   \n",
       "24   [0.00175809839342, 0.868525922131, 0.129715979...   \n",
       "25     [0.396407643229, 0.235134032521, 0.36845832425]   \n",
       "26    [0.24730253827, 0.0015146755141, 0.751182786216]   \n",
       "27   [0.996898296347, 0.00153827138146, 0.001563432...   \n",
       "28   [0.00508127733672, 0.00536944352062, 0.9895492...   \n",
       "29   [0.560393001485, 0.0083046211293, 0.431302377386]   \n",
       "..                                                 ...   \n",
       "970  [0.960730774354, 0.0184947754972, 0.0207744501...   \n",
       "971  [0.0120899329342, 0.975427185589, 0.0124828814...   \n",
       "972  [0.0230573956523, 0.952709407183, 0.0242331971...   \n",
       "973  [0.977549118645, 0.0107137632015, 0.0117371181...   \n",
       "974  [0.186094181558, 0.811710381862, 0.00219543658...   \n",
       "975  [0.00820897228781, 0.983252056204, 0.008538971...   \n",
       "976  [0.0440342519582, 0.907774770838, 0.0481909772...   \n",
       "977  [0.0478772069877, 0.899193626622, 0.0529291663...   \n",
       "978   [0.207037895754, 0.640411772503, 0.152550331743]   \n",
       "979  [0.0086871359829, 0.982287947338, 0.0090249166...   \n",
       "980  [0.375629263444, 0.554305015277, 0.0700657212795]   \n",
       "981  [0.00481846534743, 0.439070207446, 0.556111327...   \n",
       "982  [0.190526412371, 0.806348834357, 0.00312475327...   \n",
       "983  [0.851670376156, 0.140528292043, 0.00780133180...   \n",
       "984  [0.976451134305, 0.0108596189082, 0.0126892467...   \n",
       "985  [0.0163943494669, 0.966342517612, 0.0172631329...   \n",
       "986  [0.859098004014, 0.137000340572, 0.00390165541...   \n",
       "987  [0.271790936085, 0.727009419526, 0.00119964438...   \n",
       "988  [0.299980675964, 0.697607791162, 0.00241153287...   \n",
       "989  [0.00865099540981, 0.982308330641, 0.009040673...   \n",
       "990  [0.00385259262622, 0.683428791727, 0.312718615...   \n",
       "991  [0.983682993488, 0.00844783864082, 0.007869167...   \n",
       "992   [0.152956805629, 0.454881087691, 0.392162106681]   \n",
       "993  [0.0435815203429, 0.952120193002, 0.0042982866...   \n",
       "994  [0.00839428261641, 0.982778402857, 0.008827314...   \n",
       "995  [0.974501813087, 0.0118397619499, 0.0136584249...   \n",
       "996  [0.00474888689409, 0.901601454962, 0.093649658...   \n",
       "997  [0.99309968725, 0.00315834449889, 0.0037419682...   \n",
       "998    [0.43814222715, 0.187153524721, 0.374704248129]   \n",
       "999  [0.0222654249662, 0.954367093882, 0.0233674811...   \n",
       "\n",
       "                                        comments_words  \n",
       "0    [pay, work, work, work, work, work, work, work...  \n",
       "1    [work, government, work, work, work, work, wor...  \n",
       "2    [work, work, work, work, work, work, work, wor...  \n",
       "3    [pay, work, work, work, work, work, work, work...  \n",
       "4    [work, government, work, pay, work, work, work...  \n",
       "5    [government, pay, work, work, work, work, work...  \n",
       "6    [work, work, work, pay, work, pay, work, work,...  \n",
       "7    [pay, work, work, work, work, work, work, work...  \n",
       "8    [pay, government, work, work, work, pay, work,...  \n",
       "9    [work, work, work, work, work, work, work, wor...  \n",
       "10   [work, work, work, work, work, work, work, wor...  \n",
       "11   [people, pay, work, work, work, pay, work, wor...  \n",
       "12   [work, work, work, work, work, work, work, wor...  \n",
       "13   [pay, work, work, work, work, work, work, work...  \n",
       "14   [work, work, work, work, work, work, work, wor...  \n",
       "15   [government, government, work, work, work, wor...  \n",
       "16   [work, work, work, work, work, work, work, wor...  \n",
       "17   [work, work, pay, work, work, work, work, work...  \n",
       "18   [pay, pay, work, work, work, work, work, work,...  \n",
       "19   [pay, work, work, work, work, work, work, work...  \n",
       "20   [work, work, work, work, work, work, work, wor...  \n",
       "21   [pay, pay, work, work, work, pay, work, work, ...  \n",
       "22   [work, work, work, pay, work, pay, work, work,...  \n",
       "23   [work, work, work, government, work, governmen...  \n",
       "24   [work, work, work, work, work, work, work, wor...  \n",
       "25   [people, work, work, work, work, pay, work, wo...  \n",
       "26   [people, work, work, work, work, government, w...  \n",
       "27   [pay, pay, work, work, work, work, work, work,...  \n",
       "28   [work, pay, work, work, work, work, work, work...  \n",
       "29   [work, work, work, work, work, pay, work, work...  \n",
       "..                                                 ...  \n",
       "970  [work, work, work, work, work, work, work, wor...  \n",
       "971  [work, work, work, work, work, work, work, wor...  \n",
       "972  [work, work, work, work, work, work, work, wor...  \n",
       "973  [work, work, work, work, work, work, work, wor...  \n",
       "974  [work, work, work, pay, work, work, work, work...  \n",
       "975  [work, work, work, work, work, work, work, wor...  \n",
       "976  [work, work, work, work, work, work, work, wor...  \n",
       "977  [pay, work, work, work, work, work, work, work...  \n",
       "978  [work, work, work, sick, work, work, work, wor...  \n",
       "979  [work, work, work, work, work, work, work, wor...  \n",
       "980  [pay, work, work, pay, work, work, work, work,...  \n",
       "981  [work, work, work, work, work, work, work, wor...  \n",
       "982  [work, work, work, work, work, work, work, wor...  \n",
       "983  [work, work, work, pay, work, work, work, work...  \n",
       "984  [work, work, work, work, work, work, work, wor...  \n",
       "985  [work, work, work, work, work, work, work, wor...  \n",
       "986  [work, work, work, pay, work, work, work, work...  \n",
       "987  [work, work, work, government, work, work, wor...  \n",
       "988  [work, work, work, work, work, work, work, wor...  \n",
       "989  [work, work, work, work, work, work, work, wor...  \n",
       "990  [work, work, work, work, work, work, work, wor...  \n",
       "991  [work, work, work, work, work, work, work, wor...  \n",
       "992  [work, work, work, pay, work, work, work, work...  \n",
       "993  [work, work, work, work, work, work, work, wor...  \n",
       "994  [work, work, work, work, work, work, work, wor...  \n",
       "995  [work, work, work, work, work, work, work, wor...  \n",
       "996  [work, work, work, work, work, pay, work, work...  \n",
       "997  [work, work, work, work, work, work, work, wor...  \n",
       "998  [work, work, work, work, work, work, work, wor...  \n",
       "999  [work, work, work, work, work, work, work, wor...  \n",
       "\n",
       "[1000 rows x 3 columns]"
      ]
     },
     "execution_count": 243,
     "metadata": {},
     "output_type": "execute_result"
    }
   ],
   "source": [
    "features_words.toPandas()"
   ]
  },
  {
   "cell_type": "code",
   "execution_count": null,
   "metadata": {
    "collapsed": true
   },
   "outputs": [],
   "source": []
  }
 ],
 "metadata": {
  "kernelspec": {
   "display_name": "Python 3",
   "language": "python",
   "name": "python3"
  },
  "language_info": {
   "codemirror_mode": {
    "name": "ipython",
    "version": 3
   },
   "file_extension": ".py",
   "mimetype": "text/x-python",
   "name": "python",
   "nbconvert_exporter": "python",
   "pygments_lexer": "ipython3",
   "version": "3.6.3"
  }
 },
 "nbformat": 4,
 "nbformat_minor": 2
}
